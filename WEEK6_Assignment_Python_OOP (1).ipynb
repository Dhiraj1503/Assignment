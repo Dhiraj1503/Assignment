{
 "cells": [
  {
   "cell_type": "markdown",
   "id": "b005fb8b",
   "metadata": {
    "id": "b005fb8b"
   },
   "source": [
    "WEEK6: Assignment- Python OOP "
   ]
  },
  {
   "cell_type": "markdown",
   "id": "8831edb1",
   "metadata": {
    "id": "8831edb1"
   },
   "source": [
    "Q1.Problem on class and object\n",
    "```\n",
    "Task \n",
    "Write a Person class with an instance variable, age, and a constructor that takes an integer, initialAge,as a parameter.\n",
    "The constructor must assign initialAge to age after confirming the argument passed as initialAge is not negative;if a negative argument is passed as initialAge,the constructor should set age to 0 and print Age is not valid,setting age to 0. \n",
    "In addition, you must write the following instance methods: \n",
    "1.yearPasses() should increase the age instance variable by 1 \n",
    "2. amlOld() should perform the following conditional actions: \n",
    "- If age < 13, print You are young.. \n",
    "- If age > 13 and age < 18, print You are a teenager \n",
    "- Otherwise, print You are old.. \n",
    "\n",
    "Input Format\n",
    "The first line contains an integer,T(the number of test cases), and the T subsequent lines each contain an integer denoting the age of a Person instance.\n",
    "```"
   ]
  },
  {
   "cell_type": "markdown",
   "id": "74b31c60",
   "metadata": {
    "id": "0946f83f"
   },
   "source": [
    " ![image.png](attachment:image.png)"
   ]
  },
  {
   "cell_type": "code",
   "execution_count": 22,
   "id": "0c7f9770",
   "metadata": {
    "id": "0c7f9770",
    "scrolled": true
   },
   "outputs": [
    {
     "name": "stdout",
     "output_type": "stream",
     "text": [
      "4\n",
      "-1\n",
      "Age is not valid , setting age to 0.\n",
      "You are young\n",
      "You are young\n",
      "\n",
      "10\n",
      "You are young\n",
      " You are a teenager\n",
      "\n",
      "16\n",
      " You are a teenager\n",
      "You are old\n",
      "\n",
      "18\n",
      "You are old\n",
      "You are old\n",
      "\n"
     ]
    }
   ],
   "source": [
    "class Person:\n",
    "    def __init__(self,initialAge):\n",
    "        if initialAge<0 :\n",
    "            self.age=0\n",
    "            print(\"Age is not valid , setting age to 0.\")\n",
    "        else :\n",
    "               self.age = initialAge \n",
    "        \n",
    "    def amIOld(self):\n",
    "        if self.age<13:\n",
    "            print(\"You are young\")\n",
    "        elif self.age>=13 and self.age<18 :\n",
    "            print(\" You are a teenager\")\n",
    "        else:\n",
    "            print(\"You are old\")\n",
    "        \n",
    "    def yearPasses(self):\n",
    "        self.age += 1\n",
    "    \n",
    "t = int(input())\n",
    "for i in range(0, t):\n",
    "    age = int(input())         \n",
    "    p = Person(age)  \n",
    "    p.amIOld()\n",
    "    for j in range(0, 3):\n",
    "        p.yearPasses()\n",
    "    p.amIOld()\n",
    "    print(\"\")\n"
   ]
  },
  {
   "cell_type": "markdown",
   "id": "fdc085f4",
   "metadata": {
    "id": "fdc085f4"
   },
   "source": [
    "Q2.Problem on Inheritance\n",
    "```\n",
    "Task \n",
    "You are given two classes, Person and Student, where Person is the base class and Student is the derived \n",
    "class. Completed code for Person and a declaration for Student are provided for you in the editor. Observe that Student inherits all the properties of Person. \n",
    "Complete the Student class by writing the following: \n",
    "• A Student class constructor, which has 4 parameters: \n",
    "1. A string, firstName. \n",
    "2. A string, lastName. \n",
    "3. An integer, id. \n",
    "4. An integer array (or vector) of test scores, scores. \n",
    "• A char calculate() method that calculates a Student object's average and returns the grade character \n",
    "representative Of their calculated average\n",
    "```\n",
    "![image-2.png](attachment:image-2.png)\n",
    "```\n",
    "The first line contains firstName,lastName and idNumber, separated by a space. The second line contains the number of test scores. The third line of space-separated integers describes scores .\n",
    "```\n",
    "![image-3.png](attachment:image-3.png)\n"
   ]
  },
  {
   "cell_type": "code",
   "execution_count": 6,
   "id": "668d6caf",
   "metadata": {
    "id": "668d6caf"
   },
   "outputs": [
    {
     "name": "stdout",
     "output_type": "stream",
     "text": [
      "Heraldo Mamelli 8135627\n",
      "2\n",
      "100 80\n",
      "Name: Heraldo, Mamelli\n",
      "ID: 8135627\n",
      "O\n",
      "Grade: None\n"
     ]
    }
   ],
   "source": [
    "class Person:\n",
    "    def __int__(self,firstName,lastName,idNumber):\n",
    "        self.firstName=firstName\n",
    "        self.lastName=lastName\n",
    "        self.idNumber=idNumber\n",
    "    def printPerson(self):\n",
    "        print(\"Name:\",self.firstName+\",\",self.lastName)\n",
    "        print(\"ID:\",idNumber)\n",
    "class Student(Person):\n",
    "    def __init__(self,firstName,lastName,idNumber,testscore):\n",
    "        super(). __int__(firstName,lastName,idNumber)\n",
    "        self.testscore=testscore\n",
    "    def calculate(self):\n",
    "        total=0\n",
    "        for testscore in self.testscore:\n",
    "            total+=testscore\n",
    "            avg=total/len(self.testscore)\n",
    "        if 90<=avg<=100:\n",
    "            print ('O')\n",
    "        if 80<=avg<90:\n",
    "            print ('E')\n",
    "        if 70<=avg<80:\n",
    "            print ('A')\n",
    "        if 55<=avg<70:\n",
    "            print( 'P')\n",
    "        if 40<=avg<55:\n",
    "            print('D')\n",
    "        if avg<40:\n",
    "            print ('T')\n",
    "    \n",
    "line = input().split()\n",
    "firstName = line[0]\n",
    "lastName = line[1]\n",
    "idNumber = line[2]\n",
    "testScores = int(input()) # not needed for Python\n",
    "scores = list( map(int,input().split()) )\n",
    "s = Student(firstName, lastName, idNumber, scores)\n",
    "s.printPerson()\n",
    "print(\"Grade:\", s.calculate())"
   ]
  },
  {
   "cell_type": "code",
   "execution_count": null,
   "id": "f1684af5",
   "metadata": {},
   "outputs": [],
   "source": []
  }
 ],
 "metadata": {
  "colab": {
   "name": "WEEK6 Assignment- Python OOP.ipynb",
   "provenance": []
  },
  "kernelspec": {
   "display_name": "Python 3 (ipykernel)",
   "language": "python",
   "name": "python3"
  },
  "language_info": {
   "codemirror_mode": {
    "name": "ipython",
    "version": 3
   },
   "file_extension": ".py",
   "mimetype": "text/x-python",
   "name": "python",
   "nbconvert_exporter": "python",
   "pygments_lexer": "ipython3",
   "version": "3.9.7"
  }
 },
 "nbformat": 4,
 "nbformat_minor": 5
}
