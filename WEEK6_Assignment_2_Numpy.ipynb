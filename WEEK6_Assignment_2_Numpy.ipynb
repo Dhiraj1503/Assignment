{
 "cells": [
  {
   "cell_type": "markdown",
   "id": "9b14b317",
   "metadata": {
    "id": "9b14b317"
   },
   "source": [
    "# WEEK6: Assignment-2-Numpy"
   ]
  },
  {
   "cell_type": "markdown",
   "id": "be21a489",
   "metadata": {
    "id": "be21a489"
   },
   "source": [
    "```\n",
    "Q1.Data science problem on Read,split and save Data process\n",
    "\n",
    "In the Data Science project, the one Big \"climate.txt\" Data file wants to be split into ten different commas separated\n",
    "value files (.csv) and then assign this file to ten Data analytics Team members for further analysis.\n",
    "you try to help them to write the Python code using the NumPy package and produce successful output.\n",
    "\n",
    "Note:\n",
    "file_url='https://raw.githubusercontent.com/svkarthik86/Advanced-python/main/climate.txt'\n",
    "step1: Read the txt file climate.txt\n",
    "step2:split the climate.txt into ten array \n",
    "step3:create new directory as climate_project\n",
    "step4:store the all ten file like climate_data_team1.csv to climate_data_team10.csv , into climate_project directory\n",
    "SAMPLE OUTPUT:\n",
    "```\n",
    "![image.png](attachment:image.png)"
   ]
  },
  {
   "cell_type": "code",
   "execution_count": 3,
   "id": "7ea96e37",
   "metadata": {
    "id": "7ea96e37"
   },
   "outputs": [
    {
     "data": {
      "text/plain": [
       "('climate.txt', <http.client.HTTPMessage at 0x23ac31c1f70>)"
      ]
     },
     "execution_count": 3,
     "metadata": {},
     "output_type": "execute_result"
    }
   ],
   "source": [
    "import urllib.request\n",
    "climate_data=\"https://raw.githubusercontent.com/svkarthik86/Advanced-python/main/climate.txt\"\n",
    "urllib.request.urlretrieve(climate_data,\"climate.txt\")\n"
   ]
  },
  {
   "cell_type": "code",
   "execution_count": 4,
   "id": "2c9ae81f",
   "metadata": {},
   "outputs": [
    {
     "data": {
      "text/plain": [
       "'https://raw.githubusercontent.com/svkarthik86/Advanced-python/main/climate.txt'"
      ]
     },
     "execution_count": 4,
     "metadata": {},
     "output_type": "execute_result"
    }
   ],
   "source": [
    "climate_data"
   ]
  },
  {
   "cell_type": "code",
   "execution_count": null,
   "id": "4dab6dea",
   "metadata": {},
   "outputs": [],
   "source": []
  },
  {
   "cell_type": "code",
   "execution_count": 4,
   "id": "fccb1748",
   "metadata": {},
   "outputs": [],
   "source": [
    "import numpy as np\n",
    "climate_data=np.genfromtxt(\"climate.txt\",delimiter=\",\",skip_header=1,dtype='i')"
   ]
  },
  {
   "cell_type": "code",
   "execution_count": 5,
   "id": "064832ac",
   "metadata": {},
   "outputs": [
    {
     "data": {
      "text/plain": [
       "array([[25, 76, 99],\n",
       "       [39, 65, 70],\n",
       "       [59, 45, 77],\n",
       "       ...,\n",
       "       [99, 62, 58],\n",
       "       [70, 71, 91],\n",
       "       [92, 39, 76]], dtype=int32)"
      ]
     },
     "execution_count": 5,
     "metadata": {},
     "output_type": "execute_result"
    }
   ],
   "source": [
    "climate_data"
   ]
  },
  {
   "cell_type": "code",
   "execution_count": 6,
   "id": "afe1447e",
   "metadata": {},
   "outputs": [
    {
     "ename": "FileExistsError",
     "evalue": "[WinError 183] Cannot create a file when that file already exists: 'climate_project'",
     "output_type": "error",
     "traceback": [
      "\u001b[1;31m---------------------------------------------------------------------------\u001b[0m",
      "\u001b[1;31mFileExistsError\u001b[0m                           Traceback (most recent call last)",
      "\u001b[1;32m~\\AppData\\Local\\Temp/ipykernel_7592/4242145972.py\u001b[0m in \u001b[0;36m<module>\u001b[1;34m\u001b[0m\n\u001b[0;32m      1\u001b[0m \u001b[1;32mimport\u001b[0m \u001b[0mos\u001b[0m\u001b[1;33m\u001b[0m\u001b[1;33m\u001b[0m\u001b[0m\n\u001b[1;32m----> 2\u001b[1;33m \u001b[0mos\u001b[0m\u001b[1;33m.\u001b[0m\u001b[0mmkdir\u001b[0m\u001b[1;33m(\u001b[0m\u001b[1;34m'climate_project'\u001b[0m\u001b[1;33m)\u001b[0m\u001b[1;33m\u001b[0m\u001b[1;33m\u001b[0m\u001b[0m\n\u001b[0m",
      "\u001b[1;31mFileExistsError\u001b[0m: [WinError 183] Cannot create a file when that file already exists: 'climate_project'"
     ]
    }
   ],
   "source": [
    "import os\n",
    "os.mkdir('climate_project')"
   ]
  },
  {
   "cell_type": "code",
   "execution_count": 7,
   "id": "788367d2",
   "metadata": {},
   "outputs": [],
   "source": [
    "import numpy as np\n",
    "import os\n",
    "file_url=\"https://raw.githubusercontent.com/svkarthik86/Advanced-python/main/climate.txt\"\n",
    "climate_data=np.genfromtxt(file_url,delimiter=',',skip_header=1)\n",
    "def spilt_arr_file(arr,n):\n",
    "    split_arr_data=np.array_split(arr,n)\n",
    "    for i in range(n):\n",
    "        np.savetxt(f\"climate_project/climate_data_station{i+1}.csv\",split_arr_data[i],delimiter=',',fmt='%i',header='temperature,rainfall,humidity')\n",
    "file_url=\"https://raw.githubusercontent.com/svkarthik86/Advanced-python/main/climate.txt\"\n",
    "climate_data=np.genfromtxt(file_url,delimiter=',',skip_header=1)       \n",
    "spilt_arr_file(climate_data,10)"
   ]
  },
  {
   "cell_type": "code",
   "execution_count": null,
   "id": "fde44f7d",
   "metadata": {},
   "outputs": [],
   "source": [
    "Another code by sir"
   ]
  },
  {
   "cell_type": "code",
   "execution_count": 8,
   "id": "b60a532b",
   "metadata": {},
   "outputs": [
    {
     "name": "stdout",
     "output_type": "stream",
     "text": [
      "completed\n"
     ]
    }
   ],
   "source": [
    "import numpy as np\n",
    "def climate_solution(data_path,weights,n):\n",
    "            all_data=np.concatenate([np.genfromtxt(data_path+f\"{i+1}.csv\",delimiter=',',skip_header=1) for i in range(n)])\n",
    "            yield_of_corp=all_data@weights\n",
    "            climate_results = np.concatenate((all_data, yield_of_corp.reshape(-1, 1)), axis=1)\n",
    "            np.savetxt(\"climate_results.csv\",climate_results,delimiter=',',fmt='%.2f',header='temperature,rainfall,humidity,yield_of_corp')  \n",
    "            print(\"completed\")   \n",
    "data_path=\"https://raw.githubusercontent.com/svkarthik86/Advanced-python/main/climate_project/climate_data_station\"\n",
    "weights = np.array([0.3, 0.2, 0.5])\n",
    "climate_solution(data_path,weights,10)\n"
   ]
  },
  {
   "cell_type": "code",
   "execution_count": null,
   "id": "60a5ee92",
   "metadata": {},
   "outputs": [],
   "source": []
  }
 ],
 "metadata": {
  "colab": {
   "name": "WEEK6 Assignment-2-Numpy.ipynb",
   "provenance": []
  },
  "kernelspec": {
   "display_name": "Python 3 (ipykernel)",
   "language": "python",
   "name": "python3"
  },
  "language_info": {
   "codemirror_mode": {
    "name": "ipython",
    "version": 3
   },
   "file_extension": ".py",
   "mimetype": "text/x-python",
   "name": "python",
   "nbconvert_exporter": "python",
   "pygments_lexer": "ipython3",
   "version": "3.9.7"
  }
 },
 "nbformat": 4,
 "nbformat_minor": 5
}
