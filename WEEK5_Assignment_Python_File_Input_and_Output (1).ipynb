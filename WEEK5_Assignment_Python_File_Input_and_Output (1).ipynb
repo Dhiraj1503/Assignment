{
 "cells": [
  {
   "cell_type": "markdown",
   "id": "8ab1612f",
   "metadata": {
    "id": "8ab1612f"
   },
   "source": [
    "## WEEK5 Assignment- Python  File Input and Output"
   ]
  },
  {
   "cell_type": "markdown",
   "id": "03f2d3d6",
   "metadata": {
    "id": "03f2d3d6"
   },
   "source": [
    "```\n",
    "Q.1 Problem Statements:\n",
    "Create a python program for taking user notes in text file. When a user starts it up, it should prompt them for a filename.\n",
    "If they enter a file name that doesn't exist, it should prompt them to enter the text they want to write to the file.\n",
    "After they enter the text, it should save the file and exit.If they enter a file name that already exists, \n",
    "it should ask the user if they want:\n",
    "A) Read the file\n",
    "B) Append the file\n",
    "C) Delete the file and start over\n",
    "\n",
    "If the user wants to read the file it should simply show the contents of the file on the screen.\n",
    "If the user wants to start over then the file should be deleted and another empty one made in its place.\n",
    "If a user elects to append the file, then they should be able to enter more text, \n",
    "and that text should be added to the existing text in the file.\n",
    "\n",
    "Note:\n",
    "    The software Development Team created partial python code for the above problem statement, you try to help them to complete the code wherever required and produce successful output \n",
    "```"
   ]
  },
  {
   "cell_type": "code",
   "execution_count": 5,
   "id": "abb6eca2",
   "metadata": {
    "id": "abb6eca2"
   },
   "outputs": [
    {
     "name": "stdout",
     "output_type": "stream",
     "text": [
      "Please enter the filename: Assignment.txt\n",
      "Looking for file Assignment.txt...\n",
      "Found it!\n",
      "What would you like to do with the file?\n",
      "Possible actions are: read, delete, append, replace\n",
      "append\n",
      "Please enter your note: Hello\n"
     ]
    }
   ],
   "source": [
    "import os\n",
    "\n",
    "filename = input(\"Please enter the filename: \")\n",
    "# Here we check if the file exists\n",
    "if os.path.isfile(\"./\" + filename):\n",
    "    print(\"Looking for file {}...\".format(filename))\n",
    "    print(\"Found it!\")\n",
    "    action = input(\n",
    "        \"What would you like to do with the file?\\nPossible actions are: read, delete, append, replace\\n\")\n",
    "    if action == \"read\":\n",
    "        print(\"The content of the file:\")\n",
    "        with open(filename, \"r\") as read_file:\n",
    "            print(read_file.read())\n",
    "    elif action == \"append\":\n",
    "        text = input(\"Please enter your note: \")\n",
    "        with open(filename, \"a\") as append_file:\n",
    "            append_file.write(text + \"\\n\")\n",
    "    elif action == \"delete\":\n",
    "        os.remove(\"./\" + filename)\n",
    "        print(\"{} have been deleted.\".format(filename))\n",
    "        # I don't think it makes sense to create a new empty file right after deletion...\n",
    "        # Anyway, this is the requested task so here it is\n",
    "        with open(filename, \"w\") as write_file:\n",
    "            write_file.write(\"\")\n",
    "    elif action == \"replace\":\n",
    "        line_num = int(\n",
    "            input(\"Please enter the line number for the replacement: \"))\n",
    "        text = input(\"Please enter your note: \")\n",
    "        with open(filename, \"r\") as read_file:\n",
    "            lines = read_file.readlines()\n",
    "        with open(filename, \"w\") as write_file:\n",
    "            for idx, line in enumerate(lines):\n",
    "                # print(idx, line)\n",
    "                if idx == line_num - 1:\n",
    "                    print(\"Line num {} needs to be replaced!\".format(line_num))\n",
    "                    write_file.write(text + \"\\n\")\n",
    "                else:\n",
    "                    print(\"Writing \\\"{}\\\"\".format(line))\n",
    "                    write_file.write(line)\n",
    "\n",
    "    else:\n",
    "        print(\"Sorry, unrecognized action 😢\")\n",
    "else:\n",
    "    print(\"Nope, this file does not exist, I'm going to create it for you! 😄\")\n",
    "    text = input(\"Please enter your note: \")\n",
    "    with open(filename, \"w\") as write_file:\n",
    "        write_file.write(text + \"\\n\")\n",
    "    \n"
   ]
  },
  {
   "cell_type": "markdown",
   "id": "f2f0d83f",
   "metadata": {
    "id": "f2f0d83f"
   },
   "source": [
    "```\n",
    "Q2.Text File Analytics:\n",
    "Q2.1 Assume you as Data Analyst, you need to collect all text file name from current working directory and store the all text file name into \n",
    "    \"txtfile_namelist.txt\" and read this file and print How many files are available in that namelist.\n",
    "Q2.1 write the following contents to zenofpython.txt\n",
    "content:\n",
    "--------------------------------------------------------------\n",
    "The Zen of Python, by Tim Peters\n",
    "Beautiful is better than ugly.\n",
    "Explicit is better than implicit.\n",
    "Simple is better than complex.\n",
    "Complex is better than complicated.\n",
    "Flat is better than nested.\n",
    "Sparse is better than dense.\n",
    "Readability counts.\n",
    "Special cases aren't special enough to break the rules.\n",
    "Although practicality beats purity.\n",
    "Errors should never pass silently.\n",
    "Unless explicitly silenced.\n",
    "In the face of ambiguity, refuse the temptation to guess.\n",
    "There should be one -- and preferably only one -- obvious way to do it.\n",
    "Although that way may not be obvious at first unless you're Dutch.\n",
    "Now is better than never.\n",
    "Although never is often better than right now.\n",
    "If the implementation is hard to explain, it's a bad idea.\n",
    "If the implementation is easy to explain, it may be a good idea.\n",
    "Namespaces are one honking great idea -- let's do more of those!\n",
    "------------------------------------------------------------------\n",
    "an perform the following Operation:\n",
    "1.print number of lines in the zenofpython.txt file\n",
    "2.print number of words in the zenofpython.txt file\n",
    "3.Print how may python keyword present in the zenofpython.txt file\n",
    "4.print the all content in uppercase\n",
    "```"
   ]
  },
  {
   "cell_type": "code",
   "execution_count": 6,
   "id": "77094c02",
   "metadata": {
    "id": "77094c02"
   },
   "outputs": [
    {
     "data": {
      "text/plain": [
       "'C:\\\\Users\\\\DHIRAJ'"
      ]
     },
     "execution_count": 6,
     "metadata": {},
     "output_type": "execute_result"
    }
   ],
   "source": [
    "os.getcwd()"
   ]
  },
  {
   "cell_type": "code",
   "execution_count": 8,
   "id": "ebe4817d",
   "metadata": {
    "id": "ebe4817d"
   },
   "outputs": [
    {
     "name": "stdout",
     "output_type": "stream",
     "text": [
      "['.anaconda', '.astropy', '.conda', '.condarc', '.continuum', '.ipynb_checkpoints', '.ipython', '.jupyter', '.matplotlib', '.spyder-py3', '0106class.ipynb', '02062022class.ipynb', '0406classs.ipynb', \"3105class'.ipynb\", 'anaconda3', 'AppData', 'Application Data', 'Arithmodule.py', 'Assignment.txt', 'cardata.csv', 'cities.txt', 'class2705.ipynb', 'Contacts', 'Cookies', 'DHIRAJ', 'Documents', 'Downloads', 'E', 'Favorites', 'Grade.txt', 'Grades.txt', 'IBA_IOAPDATA', 'IntelGraphicsProfiles', 'Links', 'Local Settings', 'Moduls-2705022.ipynb', 'Music', 'My Documents', 'NetHood', 'NTUSER.DAT', 'ntuser.dat.LOG1', 'ntuser.dat.LOG2', 'NTUSER.DAT{1c2b59c6-c5f5-11eb-bacb-000d3a96488e}.TM.blf', 'NTUSER.DAT{1c2b59c6-c5f5-11eb-bacb-000d3a96488e}.TMContainer00000000000000000001.regtrans-ms', 'NTUSER.DAT{1c2b59c6-c5f5-11eb-bacb-000d3a96488e}.TMContainer00000000000000000002.regtrans-ms', 'ntuser.ini', 'OneDrive', 'PrintHood', 'Recent', 'Saved Games', 'Searches', 'SendTo', 'Start Menu', 'stringpack', 'Templates', 'txtfile_namelist.txt', 'untitled', 'Untitled Folder', 'Untitled.ipynb', 'untitled.py', 'Untitled1.ipynb', 'Untitled10.ipynb', 'Untitled11.ipynb', 'Untitled12.ipynb', 'Untitled13.ipynb', 'Untitled14.ipynb', 'Untitled15.ipynb', 'Untitled16.ipynb', 'Untitled2.ipynb', 'Untitled3.ipynb', 'Untitled4.ipynb', 'Untitled5.ipynb', 'Untitled6.ipynb', 'Untitled7.ipynb', 'Untitled8.ipynb', 'Untitled9.ipynb', 'Videos', 'WEEK5_Assignment_Python_File_Input_and_Output.ipynb', '__pycache__']\n"
     ]
    }
   ],
   "source": [
    "import os\n",
    "print(os.listdir())"
   ]
  },
  {
   "cell_type": "code",
   "execution_count": 9,
   "id": "b37cc8a6",
   "metadata": {},
   "outputs": [
    {
     "name": "stdout",
     "output_type": "stream",
     "text": [
      "Assignment.txt\n",
      "cities.txt\n",
      "Grade.txt\n",
      "Grades.txt\n",
      "txtfile_namelist.txt\n"
     ]
    }
   ],
   "source": [
    "# Q2.1)\n",
    "for file in os.listdir():\n",
    "    if file.endswith(\".txt\"):\n",
    "            print(file)"
   ]
  },
  {
   "cell_type": "code",
   "execution_count": 14,
   "id": "e9c1749b",
   "metadata": {},
   "outputs": [
    {
     "name": "stdout",
     "output_type": "stream",
     "text": [
      "number of lines in the zenofpython.txt file\n",
      "1\n",
      "number of lines in the zenofpython.txt file\n",
      "2\n",
      "number of lines in the zenofpython.txt file\n",
      "3\n",
      "number of lines in the zenofpython.txt file\n",
      "4\n",
      "number of lines in the zenofpython.txt file\n",
      "5\n",
      "number of lines in the zenofpython.txt file\n",
      "6\n",
      "number of lines in the zenofpython.txt file\n",
      "7\n",
      "number of lines in the zenofpython.txt file\n",
      "8\n",
      "number of lines in the zenofpython.txt file\n",
      "9\n",
      "number of lines in the zenofpython.txt file\n",
      "10\n",
      "number of lines in the zenofpython.txt file\n",
      "11\n",
      "number of lines in the zenofpython.txt file\n",
      "12\n",
      "number of lines in the zenofpython.txt file\n",
      "13\n",
      "number of lines in the zenofpython.txt file\n",
      "14\n",
      "number of lines in the zenofpython.txt file\n",
      "15\n",
      "number of lines in the zenofpython.txt file\n",
      "16\n",
      "number of lines in the zenofpython.txt file\n",
      "17\n",
      "number of lines in the zenofpython.txt file\n",
      "18\n",
      "number of lines in the zenofpython.txt file\n",
      "19\n",
      "number of lines in the zenofpython.txt file\n",
      "20\n"
     ]
    }
   ],
   "source": [
    "#Q2. 2)\n",
    "file=open(\"zenofpython.txt\",\"r\")\n",
    "count=0\n",
    "content=file.read()\n",
    "coList=content.split(\"\\n\")\n",
    "for i in coList:\n",
    "    if i:\n",
    "        count += 1\n",
    "        print(\"number of lines in the zenofpython.txt file\")\n",
    "        print(count)\n",
    "\n",
    "        \n"
   ]
  },
  {
   "cell_type": "code",
   "execution_count": 16,
   "id": "d215df9c",
   "metadata": {},
   "outputs": [
    {
     "name": "stdout",
     "output_type": "stream",
     "text": [
      "Total Words: 146\n"
     ]
    }
   ],
   "source": [
    "file=open(\"zenofpython.txt\",\"r\")\n",
    "read_data=file.read()\n",
    "per_word=read_data.split()\n",
    "print(\"Total Words:\",len(per_word))"
   ]
  },
  {
   "cell_type": "code",
   "execution_count": 21,
   "id": "9e695cc4",
   "metadata": {},
   "outputs": [
    {
     "data": {
      "text/plain": [
       "\"THE ZEN OF PYTHON, BY TIM PETERS\\nBEAUTIFUL IS BETTER THAN UGLY.\\nEXPLICIT IS BETTER THAN IMPLICIT.\\nSIMPLE IS BETTER THAN COMPLEX.\\nCOMPLEX IS BETTER THAN COMPLICATED.\\nFLAT IS BETTER THAN NESTED.\\nSPARSE IS BETTER THAN DENSE.\\nREADABILITY COUNTS.\\nSPECIAL CASES AREN'T SPECIAL ENOUGH TO BREAK THE RULES.\\nALTHOUGH PRACTICALITY BEATS PURITY.\\nERRORS SHOULD NEVER PASS SILENTLY.\\nUNLESS EXPLICITLY SILENCED.\\nIN THE FACE OF AMBIGUITY, REFUSE THE TEMPTATION TO GUESS.\\nTHERE SHOULD BE ONE -- AND PREFERABLY ONLY ONE -- OBVIOUS WAY TO DO IT.\\nALTHOUGH THAT WAY MAY NOT BE OBVIOUS AT FIRST UNLESS YOU'RE DUTCH.\\nNOW IS BETTER THAN NEVER.\\nALTHOUGH NEVER IS OFTEN BETTER THAN RIGHT NOW.\\nIF THE IMPLEMENTATION IS HARD TO EXPLAIN, IT'S A BAD IDEA.\\nIF THE IMPLEMENTATION IS EASY TO EXPLAIN, IT MAY BE A GOOD IDEA.\\nNAMESPACES ARE ONE HONKING GREAT IDEA -- LET'S DO MORE OF THOSE!\""
      ]
     },
     "execution_count": 21,
     "metadata": {},
     "output_type": "execute_result"
    }
   ],
   "source": [
    "file=open(\"zenofpython.txt\",\"r\")\n",
    "read_data=file.read()\n",
    "read_data.upper()"
   ]
  },
  {
   "cell_type": "code",
   "execution_count": null,
   "id": "a5a93220",
   "metadata": {},
   "outputs": [],
   "source": []
  }
 ],
 "metadata": {
  "colab": {
   "name": "WEEK5 Assignment- Python  File Input and Output.ipynb",
   "provenance": []
  },
  "kernelspec": {
   "display_name": "Python 3 (ipykernel)",
   "language": "python",
   "name": "python3"
  },
  "language_info": {
   "codemirror_mode": {
    "name": "ipython",
    "version": 3
   },
   "file_extension": ".py",
   "mimetype": "text/x-python",
   "name": "python",
   "nbconvert_exporter": "python",
   "pygments_lexer": "ipython3",
   "version": "3.9.7"
  }
 },
 "nbformat": 4,
 "nbformat_minor": 5
}
